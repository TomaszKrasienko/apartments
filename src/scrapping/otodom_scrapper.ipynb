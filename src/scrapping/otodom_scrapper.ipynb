{
 "cells": [
  {
   "cell_type": "code",
   "id": "initial_id",
   "metadata": {
    "collapsed": true,
    "ExecuteTime": {
     "end_time": "2024-12-27T19:17:45.624476Z",
     "start_time": "2024-12-27T19:17:45.619452Z"
    }
   },
   "source": [
    "from selenium import webdriver\n",
    "from selenium.webdriver.chrome.service import Service\n",
    "from selenium.webdriver.chrome.webdriver import WebDriver\n",
    "from selenium.webdriver.common.by import By\n",
    "import time\n",
    "\n",
    "import pandas as pd\n",
    "import os"
   ],
   "outputs": [],
   "execution_count": 89
  },
  {
   "metadata": {
    "ExecuteTime": {
     "end_time": "2024-12-27T19:17:46.036343Z",
     "start_time": "2024-12-27T19:17:46.031816Z"
    }
   },
   "cell_type": "code",
   "source": [
    "class FileAppender:\n",
    "    \"\"\"\n",
    "    Appends if file existing new data to the file, otherwise creates new one.\n",
    "    \"\"\"\n",
    "\n",
    "    @staticmethod\n",
    "    def append_data_as_csv(data, name: str):\n",
    "        \"\"\"\n",
    "        Converts data to DataFrame, checks does file exist and saves data.\n",
    "        :param data: Data to be saved.\n",
    "        :param name: Name of file without extension.\n",
    "        \"\"\"\n",
    "        data_df = pd.DataFrame(data)\n",
    "\n",
    "        is_file_exists = os.path.isfile(f'{name}.csv')\n",
    "\n",
    "        data_df.to_csv(f'{name}.csv', mode='a', header=not is_file_exists, index=False)"
   ],
   "id": "6aa5ca30fa8b6bc8",
   "outputs": [],
   "execution_count": 90
  },
  {
   "metadata": {
    "ExecuteTime": {
     "end_time": "2024-12-27T19:17:46.682992Z",
     "start_time": "2024-12-27T19:17:46.672693Z"
    }
   },
   "cell_type": "code",
   "source": [
    "class OtoDomScrapper:\n",
    "    \"\"\"\n",
    "    Handles all operation for scrapping 'otodom.pl' website.\n",
    "    \"\"\"\n",
    "    __webdriver: WebDriver\n",
    "    __file_name = \"test_data\"\n",
    "\n",
    "    def execute(self):\n",
    "        try:\n",
    "            self.__initialize_driver();\n",
    "\n",
    "            for i in range(1, 100):\n",
    "                self.__go_to_website(i)\n",
    "                time.sleep(3)\n",
    "                if i == 1:\n",
    "                    self.__accept_cookies()\n",
    "\n",
    "            self.__get_data_from_site()\n",
    "\n",
    "        finally:\n",
    "            self.__webdriver.quit()\n",
    "\n",
    "    def __initialize_driver(self):\n",
    "        \"\"\"\n",
    "        Initializes the webdriver.\n",
    "        \"\"\"\n",
    "        download_service = Service()\n",
    "        self.__webdriver = webdriver.Chrome(service=download_service)\n",
    "\n",
    "    def __go_to_website(self, page: int):\n",
    "        \"\"\"\n",
    "        Goes to the website.\n",
    "        :param page: Number of page to go.\n",
    "        \"\"\"\n",
    "        self.__webdriver.get(f\"https://www.otodom.pl/pl/wyniki/sprzedaz/mieszkanie/mazowieckie/warszawa/warszawa/warszawa?viewType=listing&page={page}\")\n",
    "\n",
    "    def __accept_cookies(self):\n",
    "        \"\"\"\n",
    "        Finds the accept button on the website.\n",
    "        Clicks on the accept button to accept cookies.\n",
    "        :return:\n",
    "        \"\"\"\n",
    "        accept_button = self.__webdriver.find_element(By.ID, \"onetrust-accept-btn-handler\")\n",
    "        accept_button.click()\n",
    "\n",
    "    def __get_data_from_site(self):\n",
    "        \"\"\"\n",
    "        Gets data about apartments from the website.\n",
    "        \"\"\"\n",
    "        advertisements = self.__webdriver.find_elements(By.CSS_SELECTOR, 'article[data-cy=\"listing-item\"]')\n",
    "\n",
    "\n",
    "        for advertisement in advertisements:\n",
    "            try:\n",
    "                # 'Title' probably will be not necessary\n",
    "                title = advertisement.find_element(By.CSS_SELECTOR, '[data-cy=\"listing-item-title\"]').text\n",
    "                price = advertisement.find_element(By.CSS_SELECTOR, '.css-2bt9f1').text\n",
    "                localization = advertisement.find_element(By.CSS_SELECTOR, '.css-42r2ms').text\n",
    "                link = advertisement.find_element(By.CSS_SELECTOR, 'a[data-cy=\"listing-item-link\"]').get_attribute('href')\n",
    "\n",
    "                # Gets details about rooms, area, floor\n",
    "                details = advertisement.find_elements(By.CSS_SELECTOR, '.css-12dsp7a dt')\n",
    "                value = advertisement.find_elements(By.CSS_SELECTOR, '.css-12dsp7a dd')\n",
    "\n",
    "                details_dict = {details.text: value.text for details, value in zip(details, value)}\n",
    "\n",
    "                rooms_number = details_dict.get(\"Liczba pokoi\", \"Brak informacji\")\n",
    "                area = details_dict.get(\"Powierzchnia\", \"Brak informacji\")\n",
    "                floor = details_dict.get(\"Piętro\", \"Brak informacji\")\n",
    "\n",
    "                apartment = {\n",
    "                    \"link\": link,\n",
    "                    \"localization\": localization,\n",
    "                    \"price\": price,\n",
    "                    \"rooms_number\": rooms_number,\n",
    "                    \"area\": area,\n",
    "                    \"floor\": floor,\n",
    "                }\n",
    "                print(apartment)\n",
    "\n",
    "                # apartmentsList.append(apartment)\n",
    "                FileAppender.append_data_as_csv([apartment], self.__file_name)\n",
    "\n",
    "            except Exception as e:\n",
    "                print(f\"Błąd podczas przetwarzania ogłoszenia: {e}\")\n"
   ],
   "id": "c06cfd5ebba84f50",
   "outputs": [],
   "execution_count": 91
  },
  {
   "metadata": {
    "ExecuteTime": {
     "end_time": "2024-12-27T19:27:04.339254Z",
     "start_time": "2024-12-27T19:17:47.644618Z"
    }
   },
   "cell_type": "code",
   "source": [
    "otodom_scrapper: OtoDomScrapper = OtoDomScrapper();\n",
    "\n",
    "otodom_scrapper.execute();\n"
   ],
   "id": "c69e29bb76470106",
   "outputs": [
    {
     "name": "stdout",
     "output_type": "stream",
     "text": [
      "{'link': 'https://www.otodom.pl/pl/oferta/klimatyczne-mieszkanie-warszawa-bielany-ID4ttQe', 'localization': 'Huta, Bielany, Warszawa, mazowieckie', 'price': '899 000 zł', 'rooms_number': '3 pokoje', 'area': '51 m²', 'floor': '6 piętro'}\n",
      "{'link': 'https://www.otodom.pl/pl/oferta/2-pokoje-eco-remont-blisko-metra-ID4tVFF', 'localization': 'ul. Blacharska, Służew, Mokotów, Warszawa, mazowieckie', 'price': '675 000 zł', 'rooms_number': '2 pokoje', 'area': '32 m²', 'floor': '4 piętro'}\n",
      "{'link': 'https://www.otodom.pl/pl/oferta/muranow-2-pokoje-kamienica-ID4u1xZ', 'localization': 'ul. Józefa Lewartowskiego 4, Muranów, Śródmieście, Warszawa, mazowieckie', 'price': '899 000 zł', 'rooms_number': '2 pokoje', 'area': '38 m²', 'floor': '3 piętro'}\n",
      "{'link': 'https://www.otodom.pl/pl/oferta/chmielna-duo-mieszkanie-1-pok-a1-52-ID4nYB6', 'localization': 'ul. Chmielna, Mirów, Wola, Warszawa, mazowieckie', 'price': '1 262 716 zł', 'rooms_number': '1 pokój', 'area': '39.28 m²', 'floor': '5 piętro'}\n",
      "{'link': 'https://www.otodom.pl/pl/oferta/wyposazone-nowe-metro-brodno-12-min-skm-ID4tUEt', 'localization': 'ul. Marywilska 68a, Białołęka Dworska, Białołęka, Warszawa, mazowieckie', 'price': '672 296 zł', 'rooms_number': '2 pokoje', 'area': '44.23 m²', 'floor': '2 piętro'}\n",
      "{'link': 'https://www.otodom.pl/pl/oferta/nowoczesne-mieszkanie-w-ursusie-ID4tYSs', 'localization': 'Szamoty, Ursus, Warszawa, mazowieckie', 'price': '910 000 zł', 'rooms_number': '3 pokoje', 'area': '53.91 m²', 'floor': '2 piętro'}\n",
      "{'link': 'https://www.otodom.pl/pl/oferta/okazja-2-pokoje-metro-ks-janusza-zielone-parki-ID4tYRP', 'localization': 'Ulrychów, Wola, Warszawa, mazowieckie', 'price': '560 000 zł', 'rooms_number': '2 pokoje', 'area': '37 m²', 'floor': 'Brak informacji'}\n",
      "{'link': 'https://www.otodom.pl/pl/oferta/kameralne-2-pokoje-mokotow-przy-krolikarni-ID4tYRH', 'localization': 'ul. Puławska, Ksawerów, Mokotów, Warszawa, mazowieckie', 'price': '880 000 zł', 'rooms_number': '2 pokoje', 'area': '49.5 m²', 'floor': '4 piętro'}\n",
      "{'link': 'https://www.otodom.pl/pl/oferta/kameralne-2-pokoje-wilanow-ul-hlonda-ID4tYRG', 'localization': 'ul. Prymasa Augusta Hlonda, Błonia Wilanowskie, Wilanów, Warszawa, mazowieckie', 'price': '1 295 000 zł', 'rooms_number': '2 pokoje', 'area': '61.43 m²', 'floor': '1 piętro'}\n",
      "{'link': 'https://www.otodom.pl/pl/oferta/kameralne-dwupoziomowe-4-pokoje-wawer-ID4tYRE', 'localization': 'ul. Tytoniowa, Marysin Wawerski, Wawer, Warszawa, mazowieckie', 'price': '1 350 000 zł', 'rooms_number': '4 pokoje', 'area': '82.75 m²', 'floor': '3 piętro'}\n",
      "{'link': 'https://www.otodom.pl/pl/oferta/sprzedam-mieszkanie-3-pokojowe-na-ul-krasinskiego-ID4tYRo', 'localization': 'ul. Zygmunta Krasińskiego 42, Sady Żoliborskie, Żoliborz, Warszawa, mazowieckie', 'price': '930 000 zł', 'rooms_number': '3 pokoje', 'area': '48 m²', 'floor': '3 piętro'}\n",
      "{'link': 'https://www.otodom.pl/pl/oferta/srodmiescie-hoza-40-2pok-balkon-budynek-z-cegly-ID4tYRl', 'localization': 'ul. Hoża 40, Śródmieście Południowe, Śródmieście, Warszawa, mazowieckie', 'price': '749 000 zł', 'rooms_number': '2 pokoje', 'area': '33.55 m²', 'floor': '2 piętro'}\n",
      "{'link': 'https://www.otodom.pl/pl/oferta/mieszkanie-w-aninie-3-pokoje-widok-na-las-ID4tYRg', 'localization': 'ul. Romana Pazińskiego, Anin, Wawer, Warszawa, mazowieckie', 'price': '850 000 zł', 'rooms_number': '3 pokoje', 'area': '73 m²', 'floor': '2 piętro'}\n",
      "{'link': 'https://www.otodom.pl/pl/oferta/bezposrednio-2-pokoje-z-garderoba-bielany-ID4tHzx', 'localization': 'ul. Starej Baśni, Stare Bielany, Bielany, Warszawa, mazowieckie', 'price': '829 000 zł', 'rooms_number': '2 pokoje', 'area': '37.69 m²', 'floor': '3 piętro'}\n",
      "{'link': 'https://www.otodom.pl/pl/oferta/50m2-parking-i-komorka-2-lub-3-pokoje-ID4txjj', 'localization': 'ul. Siemiatycka, Jelonki Południowe, Bemowo, Warszawa, mazowieckie', 'price': '749 000 zł', 'rooms_number': '2 pokoje', 'area': '50 m²', 'floor': '10+ piętro'}\n",
      "{'link': 'https://www.otodom.pl/pl/oferta/wyjatkowe-mieszkanie-przy-al-rzeczypospolitej-ID4tHzq', 'localization': 'al. Aleja Rzeczypospolitej 31b, Powsinek, Wilanów, Warszawa, mazowieckie', 'price': '1 485 862 zł', 'rooms_number': '2 pokoje', 'area': '55.54 m²', 'floor': '3 piętro'}\n",
      "{'link': 'https://www.otodom.pl/pl/oferta/ochota-tuz-przy-parku-ul-zlotego-smoka-z-tarasem-ID4tYQV', 'localization': 'ul. Złotego Smoka, Szczęśliwice, Ochota, Warszawa, mazowieckie', 'price': '1 790 000 zł', 'rooms_number': '3 pokoje', 'area': '84 m²', 'floor': 'parter'}\n",
      "{'link': 'https://www.otodom.pl/pl/oferta/goclaw-wyjatkowe-mieszkanie-3-pok-2-balkony-ID4tMce', 'localization': 'Gocław, Praga-Południe, Warszawa, mazowieckie', 'price': '1 380 000 zł', 'rooms_number': '3 pokoje', 'area': '64.43 m²', 'floor': '5 piętro'}\n",
      "{'link': 'https://www.otodom.pl/pl/oferta/sloneczne-2-pokojowe-z-klimatyzacja-bezposrednio-ID4rUt8', 'localization': 'Nowe Włochy, Włochy, Warszawa, mazowieckie', 'price': '819 000 zł', 'rooms_number': '2 pokoje', 'area': '51.52 m²', 'floor': '3 piętro'}\n",
      "{'link': 'https://www.otodom.pl/pl/oferta/ken-2-pok-sprzedam-metro-stoklosy-ID4tYPG', 'localization': 'al. Aleja Komisji Edukacji Narodowej, Ursynów Północny, Ursynów, Warszawa, mazowieckie', 'price': '888 000 zł', 'rooms_number': '2 pokoje', 'area': '46.2 m²', 'floor': '4 piętro'}\n",
      "{'link': 'https://www.otodom.pl/pl/oferta/stylowe-mieszkanie-na-starym-mokotowie-ID4tYPz', 'localization': 'ul. Wołoska, Stary Mokotów, Mokotów, Warszawa, mazowieckie', 'price': '790 000 zł', 'rooms_number': '2 pokoje', 'area': '41 m²', 'floor': '1 piętro'}\n",
      "{'link': 'https://www.otodom.pl/pl/oferta/2-pokojowe-mieszkanie-skolimowska-plac-unii-ID4tHy7', 'localization': 'ul. Skolimowska, Stary Mokotów, Mokotów, Warszawa, mazowieckie', 'price': '688 000 zł', 'rooms_number': '2 pokoje', 'area': '26.5 m²', 'floor': 'parter'}\n",
      "{'link': 'https://www.otodom.pl/pl/oferta/mieszkanie-3-pokoje-65-m2-ul-opoczynska-ID4tYPa', 'localization': 'ul. Opoczyńska, Stary Mokotów, Mokotów, Warszawa, mazowieckie', 'price': '1 750 000 zł', 'rooms_number': '3 pokoje', 'area': '65 m²', 'floor': '2 piętro'}\n",
      "{'link': 'https://www.otodom.pl/pl/oferta/unikatowe-mieszkanie-35m2-kolonia-wawelberga-ID4txhJ', 'localization': 'ul. Górczewska 17, Młynów, Wola, Warszawa, mazowieckie', 'price': '899 000 zł', 'rooms_number': '2 pokoje', 'area': '35 m²', 'floor': 'parter'}\n",
      "{'link': 'https://www.otodom.pl/pl/oferta/wyjatkowe-mieszkanie-w-prestizowej-inwestycji-ID4t4Fu', 'localization': 'ul. Nałęczowska 33, Sadyba, Mokotów, Warszawa, mazowieckie', 'price': '1 789 000 zł', 'rooms_number': '4 pokoje', 'area': '77.8 m²', 'floor': '2 piętro'}\n",
      "{'link': 'https://www.otodom.pl/pl/oferta/luksusowy-loft-z-widokiem-na-park-qbik-ID4teMr', 'localization': 'ul. Jana Pawła Woronicza, Służewiec, Mokotów, Warszawa, mazowieckie', 'price': '2 890 000 zł', 'rooms_number': '3 pokoje', 'area': '101 m²', 'floor': '4 piętro'}\n",
      "{'link': 'https://www.otodom.pl/pl/oferta/bezposrednio-3-pokoje-przy-metrze-i-lesie-kabackim-ID4rxUq', 'localization': 'ul. Romualda Mielczarskiego, Kabaty, Ursynów, Warszawa, mazowieckie', 'price': '1 130 000 zł', 'rooms_number': '3 pokoje', 'area': '72 m²', 'floor': '3 piętro'}\n",
      "{'link': 'https://www.otodom.pl/pl/oferta/kawalerka-mini-apartament-lokal-ul-obwodowa-4-ID4tHvS', 'localization': 'ul. Obwodowa 4, Targówek Mieszkaniowy, Targówek, Warszawa, mazowieckie', 'price': '420 000 zł', 'rooms_number': '1 pokój', 'area': '19.4 m²', 'floor': '1 piętro'}\n",
      "{'link': 'https://www.otodom.pl/pl/oferta/bezposrednio-2-pokoje-gotowe-do-zamieszkania-ID4sqhS', 'localization': 'Elsnerów, Targówek, Warszawa, mazowieckie', 'price': '899 000 zł', 'rooms_number': '2 pokoje', 'area': '50.4 m²', 'floor': '3 piętro'}\n",
      "{'link': 'https://www.otodom.pl/pl/oferta/ciche-i-jasne-3-pokojowe-mieszkanie-ID4tYOg', 'localization': 'Błonia Wilanowskie, Wilanów, Warszawa, mazowieckie', 'price': '1 200 000 zł', 'rooms_number': '3 pokoje', 'area': '58.5 m²', 'floor': '3 piętro'}\n",
      "{'link': 'https://www.otodom.pl/pl/oferta/bezposrednio-4-pokoje-wysoki-standard-kobalt-ID4tYOc', 'localization': 'ul. Jagiellońska, Pelcowizna, Praga-Północ, Warszawa, mazowieckie', 'price': '1 597 000 zł', 'rooms_number': '4 pokoje', 'area': '80 m²', 'floor': '1 piętro'}\n",
      "{'link': 'https://www.otodom.pl/pl/oferta/1-pokojowe-mieszkanie-26m2-balkon-bezposrednio-ID4tRnQ', 'localization': 'ul. Marywilska 60, Żerań, Białołęka, Warszawa, mazowieckie', 'price': 'Zapytaj o cenę', 'rooms_number': '1 pokój', 'area': '26.47 m²', 'floor': '3 piętro'}\n",
      "{'link': 'https://www.otodom.pl/pl/oferta/dzieci-warszawy-oddzielna-duza-kuchnia-2-pokoje-ID4rVCT', 'localization': 'ul. Dzieci Warszawy, Skorosze, Ursus, Warszawa, mazowieckie', 'price': '695 000 zł', 'rooms_number': '2 pokoje', 'area': '44.5 m²', 'floor': '4 piętro'}\n",
      "{'link': 'https://www.otodom.pl/pl/oferta/mieszkanie-przy-forcie-bema-na-bemowie-ID4tHw9', 'localization': 'ul. Widawska, Bemowo-Lotnisko, Bemowo, Warszawa, mazowieckie', 'price': '1 150 000 zł', 'rooms_number': '3 pokoje', 'area': '71.61 m²', 'floor': '6 piętro'}\n",
      "{'link': 'https://www.otodom.pl/pl/oferta/apartament-z-antresola-dla-pary-lub-singla-ID4tYNm', 'localization': 'ul. Mroczna, Ulrychów, Wola, Warszawa, mazowieckie', 'price': '1 345 000 zł', 'rooms_number': '3 pokoje', 'area': '74.15 m²', 'floor': '3 piętro'}\n",
      "{'link': 'https://www.otodom.pl/pl/oferta/apartament-z-ogrodem-170-metrow-bialoleka-ID4txcF', 'localization': 'Białołęka Dworska, Białołęka, Warszawa, mazowieckie', 'price': '790 000 zł', 'rooms_number': '2 pokoje', 'area': '44 m²', 'floor': 'parter'}\n",
      "{'link': 'https://www.otodom.pl/pl/oferta/3-pokrozkladowecicha-zielona-okolicaokazja-ID4tYMT', 'localization': 'ul. Franciszka Żymirskiego, Gocław, Praga-Południe, Warszawa, mazowieckie', 'price': '599 000 zł', 'rooms_number': '3 pokoje', 'area': '55.5 m²', 'floor': '1 piętro'}\n",
      "{'link': 'https://www.otodom.pl/pl/oferta/kameralna-zabudowa-zielen-gotowe-do-zamieszkania-ID4sc7m', 'localization': 'ul. Białego Dębu, Stegny, Mokotów, Warszawa, mazowieckie', 'price': '2 562 000 zł', 'rooms_number': '4 pokoje', 'area': '91.5 m²', 'floor': '2 piętro'}\n",
      "{'link': 'https://www.otodom.pl/pl/oferta/mieszkanie-inwestycyjne-w-miasteczku-wilanow-ID4a9qS', 'localization': 'Błonia Wilanowskie, Wilanów, Warszawa, mazowieckie', 'price': '3 400 000 zł', 'rooms_number': '4 pokoje', 'area': '138 m²', 'floor': '1 piętro'}\n",
      "{'link': 'https://www.otodom.pl/pl/oferta/3-pokojowe-mieszkanie-menolly-powisle-ID4r1D4', 'localization': 'ul. Leszczyńska, Powiśle, Śródmieście, Warszawa, mazowieckie', 'price': '2 990 000 zł', 'rooms_number': '3 pokoje', 'area': '78.4 m²', 'floor': '2 piętro'}\n",
      "{'link': 'https://www.otodom.pl/pl/oferta/przestronny-apartament-na-ostatnim-pietrze-ID4tdbu', 'localization': 'ul. Wielicka, Ksawerów, Mokotów, Warszawa, mazowieckie', 'price': '2 390 000 zł', 'rooms_number': '3 pokoje', 'area': '134.82 m²', 'floor': '8 piętro'}\n",
      "{'link': 'https://www.otodom.pl/pl/oferta/4-pokojowy-stylowy-apartament-na-mokotowie-ID4tiUa', 'localization': 'al. Aleja gen. Władysława Sikorskiego, Stegny, Mokotów, Warszawa, mazowieckie', 'price': '3 850 000 zł', 'rooms_number': '4 pokoje', 'area': '173.5 m²', 'floor': '6 piętro'}\n",
      "{'link': 'https://www.otodom.pl/pl/oferta/klimatyzowane-mieszkanie-z-garderoba-na-ursynowie-ID4sQUS', 'localization': 'ul. Pieskowa Skała, Wyczółki, Ursynów, Warszawa, mazowieckie', 'price': '839 999 zł', 'rooms_number': '2 pokoje', 'area': '47 m²', 'floor': '1 piętro'}\n",
      "{'link': 'https://www.otodom.pl/pl/oferta/2-pokojowe-mieszkanie-z-garderoba-na-ursynowie-ID4tucJ', 'localization': 'ul. Arachidowa, Ursynów-Centrum, Ursynów, Warszawa, mazowieckie', 'price': '850 000 zł', 'rooms_number': '2 pokoje', 'area': '48.06 m²', 'floor': '2 piętro'}\n",
      "{'link': 'https://www.otodom.pl/pl/oferta/2-pokojowe-mieszkanie-z-mozaika-palacowa-w-salonie-ID4tIc8', 'localization': 'ul. Służby Polsce, Ursynów Północny, Ursynów, Warszawa, mazowieckie', 'price': '794 900 zł', 'rooms_number': '2 pokoje', 'area': '53 m²', 'floor': '1 piętro'}\n",
      "{'link': 'https://www.otodom.pl/pl/oferta/kawalerka-26-m2-ul-dickensa-16-w-wa-ochota-ID4tYKI', 'localization': 'ul. Karola Dickensa, Szczęśliwice, Ochota, Warszawa, mazowieckie', 'price': '494 000 zł', 'rooms_number': '1 pokój', 'area': '26 m²', 'floor': 'parter'}\n",
      "{'link': 'https://www.otodom.pl/pl/oferta/mieszkanie-19-81-m-warszawa-ID4tYKR', 'localization': 'ul. Dzielna, Muranów, Śródmieście, Warszawa, mazowieckie', 'price': '560 000 zł', 'rooms_number': '1 pokój', 'area': '19.81 m²', 'floor': '2 piętro'}\n",
      "{'link': 'https://www.otodom.pl/pl/oferta/komfortowy-apartament-4-5-pokoi-na-zawadach-ID4tHrL', 'localization': 'Zawady, ul. Syta, Zawady, Wilanów, Warszawa, mazowieckie', 'price': '2 100 000 zł', 'rooms_number': '4 pokoje', 'area': '102.75 m²', 'floor': '1 piętro'}\n",
      "{'link': 'https://www.otodom.pl/pl/oferta/ursus-wykonczone-2-pokoje-ciche-zielone-osiedle-ID4tQ5D', 'localization': 'ul. Edwarda Habicha, Szamoty, Ursus, Warszawa, mazowieckie', 'price': '780 000 zł', 'rooms_number': '2 pokoje', 'area': '45.34 m²', 'floor': '5 piętro'}\n",
      "{'link': 'https://www.otodom.pl/pl/oferta/od-zaraz-2-oddz-pokoje-42m2-6-min-do-metra-ID4teFZ', 'localization': 'ul. Gotarda, Służew, Mokotów, Warszawa, mazowieckie', 'price': '699 000 zł', 'rooms_number': '2 pokoje', 'area': '42 m²', 'floor': '8 piętro'}\n",
      "{'link': 'https://www.otodom.pl/pl/oferta/mieszkanie-40-m2-2-pokoje-wola-park-metro-ID4tP0F', 'localization': 'Ulrychów, Wola, Warszawa, mazowieckie', 'price': '850 000 zł', 'rooms_number': '2 pokoje', 'area': '40 m²', 'floor': 'parter'}\n",
      "{'link': 'https://www.otodom.pl/pl/oferta/chmielna-duo-mieszkanie-1-pok-a1-52-ID.4nYB6', 'localization': '', 'price': '', 'rooms_number': 'Brak informacji', 'area': 'Brak informacji', 'floor': 'Brak informacji'}\n"
     ]
    }
   ],
   "execution_count": 92
  }
 ],
 "metadata": {
  "kernelspec": {
   "display_name": "Python 3",
   "language": "python",
   "name": "python3"
  },
  "language_info": {
   "codemirror_mode": {
    "name": "ipython",
    "version": 2
   },
   "file_extension": ".py",
   "mimetype": "text/x-python",
   "name": "python",
   "nbconvert_exporter": "python",
   "pygments_lexer": "ipython2",
   "version": "2.7.6"
  }
 },
 "nbformat": 4,
 "nbformat_minor": 5
}
