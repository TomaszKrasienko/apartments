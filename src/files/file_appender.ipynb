{
 "cells": [
  {
   "metadata": {
    "ExecuteTime": {
     "end_time": "2024-12-28T13:15:17.757514Z",
     "start_time": "2024-12-28T13:15:17.754251Z"
    }
   },
   "cell_type": "code",
   "source": [
    "import pandas as pd\n",
    "import os\n",
    "from datetime import datetime"
   ],
   "id": "e9e8ca1dc61a974b",
   "outputs": [],
   "execution_count": 17
  },
  {
   "metadata": {
    "collapsed": true,
    "ExecuteTime": {
     "end_time": "2024-12-28T13:15:18.423701Z",
     "start_time": "2024-12-28T13:15:18.418782Z"
    }
   },
   "cell_type": "code",
   "source": [
    "class FileAppender:\n",
    "    \"\"\"\n",
    "    Appends if file existing new data to the file, otherwise creates new one.\n",
    "    \"\"\"\n",
    "\n",
    "    @staticmethod\n",
    "    def append_data_as_csv(data, name: str, current_datetime: datetime):\n",
    "        \"\"\"\n",
    "        Converts data to DataFrame, checks does file exist and saves data.\n",
    "        File has name in format {name}_{current_datetime}.csv\n",
    "        File is saving in current folder.\n",
    "        :param data: Data to be saved.\n",
    "        :param name: Name of file without extension.\n",
    "        :param current_datetime: Current date of file.\n",
    "        \"\"\"\n",
    "        data_df = pd.DataFrame(data)\n",
    "        is_file_exists = os.path.isfile(f'data/{name}.csv')\n",
    "\n",
    "        if current_datetime is None:\n",
    "            current_datetime = datetime.now()\n",
    "\n",
    "        formatted_datetime = current_datetime.strftime(\"%Y-%m-%d_%H-%M-%S\")\n",
    "\n",
    "        data_df.to_csv(f'data/{name}_{formatted_datetime}.csv', mode='a', header=not is_file_exists, index=False)"
   ],
   "id": "initial_id",
   "outputs": [],
   "execution_count": 18
  },
  {
   "metadata": {
    "ExecuteTime": {
     "end_time": "2024-12-28T13:15:19.046058Z",
     "start_time": "2024-12-28T13:15:19.041625Z"
    }
   },
   "cell_type": "code",
   "source": [
    "test = [\n",
    "    {\n",
    "        \"test\": \"test1\"\n",
    "    },\n",
    "    {\n",
    "        \"test\": \"test1\"\n",
    "    }\n",
    "]\n",
    "\n",
    "FileAppender.append_data_as_csv(test, \"test\", None)"
   ],
   "id": "1f367ca9a2379f63",
   "outputs": [],
   "execution_count": 19
  },
  {
   "metadata": {},
   "cell_type": "code",
   "outputs": [],
   "execution_count": null,
   "source": "",
   "id": "4d673bbea15a4b64"
  }
 ],
 "metadata": {
  "kernelspec": {
   "display_name": "Python 3",
   "language": "python",
   "name": "python3"
  },
  "language_info": {
   "codemirror_mode": {
    "name": "ipython",
    "version": 2
   },
   "file_extension": ".py",
   "mimetype": "text/x-python",
   "name": "python",
   "nbconvert_exporter": "python",
   "pygments_lexer": "ipython2",
   "version": "2.7.6"
  }
 },
 "nbformat": 4,
 "nbformat_minor": 5
}
